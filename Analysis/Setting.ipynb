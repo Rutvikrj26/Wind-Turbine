{
 "cells": [
  {
   "cell_type": "code",
   "execution_count": 3,
   "metadata": {},
   "outputs": [],
   "source": [
    "cl_val = [0.   ,  0.123,  0.246,  0.369,  0.492,  0.604,  0.718,  0.825,\n",
    "        0.924,  1.009,  1.073,  1.104,  1.098,  1.071,  1.031,  1.047,\n",
    "        1.084,  1.122,  1.155,  1.182,  1.201,  1.213,  1.219,  1.219,\n",
    "        1.212,  1.2  ,  1.184,  1.163,  1.14 ,  1.113,  1.085,  1.055,\n",
    "        1.02 ,  0.981,  0.942,  0.903,  0.865,  0.828,  0.792,  0.758,\n",
    "        0.725,  0.694,  0.664,  0.635,  0.608,  0.583,  0.559,  0.536,\n",
    "        0.514,  0.494,  0.475,  0.457,  0.439,  0.423,  0.408,  0.394,\n",
    "        0.38 ,  0.367,  0.355,  0.344,  0.333,  0.323,  0.314,  0.305,\n",
    "        0.296,  0.288,  0.28 ,  0.273,  0.266,  0.26 ,  0.254,  0.248,\n",
    "        0.243,  0.237,  0.232,  0.228,  0.223,  0.219,  0.215,  0.211,\n",
    "        0.207,  0.204,  0.201,  0.198,  0.195,  0.192,  0.189,  0.187,\n",
    "        0.184,  0.182,  0.301,  0.3  ,  0.298,  0.297,  0.295,  0.294,\n",
    "        0.292,  0.291,  0.289,  0.288,  0.287,  0.285,  0.284,  0.282,\n",
    "        0.281,  0.28 ,  0.278,  0.28 ,  0.282,  0.284,  0.287,  0.289,\n",
    "        0.292,  0.295,  0.298,  0.302,  0.305,  0.309,  0.313,  0.317,\n",
    "        0.322,  0.326,  0.331,  0.335,  0.34 ,  0.345,  0.35 ,  0.355,\n",
    "        0.36 ,  0.364,  0.369,  0.373,  0.378,  0.381,  0.384,  0.936,\n",
    "        0.974,  1.015,  1.058,  1.103,  1.151,  1.201,  1.253,  1.307,\n",
    "        1.363,  1.42 ,  1.479,  1.539,  1.599,  1.652,  1.698,  1.741,\n",
    "        1.782,  1.819,  1.851,  1.877,  1.897,  1.909,  1.913,  1.907,\n",
    "        1.891,  1.865,  1.829,  1.782,  1.724,  1.657,  1.58 ,  1.495,\n",
    "        1.402,  1.302,  1.196,  1.085,  0.97 ,  0.853,  0.734,  0.614,\n",
    "        0.492,  0.369,  0.246,  0.123, -0.   , -0.123, -0.246, -0.369,\n",
    "       -0.492, -0.614, -0.736, -0.857, -0.979, -1.102, -1.23 , -1.365,\n",
    "       -1.515, -1.678, -1.86 , -2.016, -2.146, -2.257, -2.356, -2.437,\n",
    "       -2.505, -2.561, -2.601, -2.627, -2.642, -2.648, -2.639, -2.625,\n",
    "       -2.6  , -2.567, -2.529, -2.487, -2.43 , -2.362, -2.293, -2.221,\n",
    "       -2.151, -2.081, -2.013, -1.947, -1.879, -1.817, -1.758, -1.7  ,\n",
    "       -1.644, -1.589, -1.539, -1.491, -1.444, -1.401, -1.359, -1.32 ,\n",
    "       -1.282, -1.246, -1.213, -1.181, -1.15 , -1.122, -1.095, -1.069,\n",
    "       -1.044, -1.021, -1.   , -0.979, -0.96 , -0.942, -0.925, -0.909,\n",
    "       -0.895, -0.881, -0.867, -0.855, -0.844, -0.833, -0.823, -0.814,\n",
    "       -0.806, -0.798, -0.791, -0.784, -0.779, -0.773, -0.769, -0.765,\n",
    "       -0.761, -0.758, -0.756, -0.754, -0.753, -0.752, -0.515, -0.517,\n",
    "       -0.52 , -0.523, -0.526, -0.531, -0.536, -0.542, -0.549, -0.556,\n",
    "       -0.564, -0.573, -0.582, -0.592, -0.603, -0.614, -0.627, -0.635,\n",
    "       -0.644, -0.653, -0.663, -0.674, -0.685, -0.697, -0.71 , -0.724,\n",
    "       -0.739, -0.754, -0.771, -0.788, -0.807, -0.827, -0.848, -0.87 ,\n",
    "       -0.894, -0.919, -0.946, -0.974, -1.004, -1.035, -1.068, -1.104,\n",
    "       -1.141, -1.18 , -1.222, -0.936, -0.974, -1.015, -1.058, -1.103,\n",
    "       -1.151, -1.201, -1.253, -1.307, -1.363, -1.42 , -1.479, -1.539,\n",
    "       -1.599, -1.652, -1.698, -1.741, -1.782, -1.819, -1.851, -1.877,\n",
    "       -1.897, -1.909, -1.913, -1.907, -1.891, -1.865, -1.829, -1.782,\n",
    "       -1.724, -1.657, -1.58 , -1.495, -1.402, -1.302, -1.196, -1.085,\n",
    "       -0.97 , -0.853, -0.734, -0.614, -0.492, -0.369, -0.246, -0.123,\n",
    "        0.   ]\n",
    "\n",
    "cd_val = [1.29700e-02,  1.30600e-02,  1.33600e-02,  1.38700e-02,\n",
    "        1.46800e-02,  1.33500e-02,  1.72100e-02,  1.87600e-02,\n",
    "        2.05200e-02,  2.25600e-02,  2.56400e-02,  3.03900e-02,\n",
    "        3.87400e-02,  5.15000e-02,  6.99500e-02,  8.34800e-02,\n",
    "        9.40100e-02,  1.03800e-01,  1.12940e-01,  1.23820e-01,\n",
    "        1.34320e-01,  1.46670e-01,  1.57460e-01,  1.73350e-01,\n",
    "        1.86290e-01,  2.00570e-01,  2.12840e-01,  2.29770e-01,\n",
    "        2.53000e-01,  2.63200e-01,  2.80070e-01,  3.00140e-01,\n",
    "        3.24430e-01,  3.53120e-01,  3.68080e-01,  3.93340e-01,\n",
    "        4.26030e-01,  4.68210e-01,  4.67080e-01,  5.16850e-01,\n",
    "        5.40940e-01,  5.66410e-01,  5.99780e-01,  6.27680e-01,\n",
    "        6.81910e-01,  6.95170e-01,  7.27820e-01,  8.06760e-01,\n",
    "        8.03630e-01,  8.28770e-01,  8.62670e-01,  9.25010e-01,\n",
    "        1.00321e+00,  1.04165e+00,  1.09413e+00,  1.05220e+00,\n",
    "        1.06482e+00,  1.13518e+00,  1.18738e+00,  1.14285e+00,\n",
    "        1.25130e+00,  1.33093e+00,  1.25839e+00,  1.41424e+00,\n",
    "        1.32653e+00,  1.37008e+00,  1.46768e+00,  1.37669e+00,\n",
    "        1.48045e+00,  1.42532e+00,  1.53353e+00,  1.65843e+00,\n",
    "        1.61700e+00,  1.50176e+00,  1.61346e+00,  1.59878e+00,\n",
    "        1.72295e+00,  1.57071e+00,  1.65868e+00,  1.61570e+00,\n",
    "        1.70525e+00,  1.82307e+00,  1.66712e+00,  1.78903e+00,\n",
    "        1.65301e+00,  1.86202e+00,  1.70566e+00,  1.86215e+00,\n",
    "        1.73174e+00,  1.62544e+00,  1.61329e+00,  1.45834e+00,\n",
    "        1.56535e+00,  1.69653e+00,  1.54077e+00,  1.69841e+00,\n",
    "        1.49033e+00,  1.62786e+00,  1.50735e+00,  1.66511e+00,\n",
    "        1.54919e+00,  1.46170e+00,  1.50656e+00,  1.42070e+00,\n",
    "        1.57528e+00,  1.45355e+00,  1.47089e+00,  1.35960e+00,\n",
    "        1.47545e+00,  1.51723e+00,  1.39286e+00,  1.28524e+00,\n",
    "        1.34085e+00,  1.23776e+00,  1.32933e+00,  1.23248e+00,\n",
    "        1.18952e+00,  1.27822e+00,  1.12289e+00,  1.19641e+00,\n",
    "        1.11737e+00,  1.00946e+00,  1.05478e+00,  1.00369e+00,\n",
    "        9.34490e-01,  9.22730e-01,  9.65960e-01,  9.14760e-01,\n",
    "        8.77650e-01,  8.00630e-01,  7.39740e-01,  7.07350e-01,\n",
    "        6.83780e-01,  6.88370e-01,  6.11130e-01,  5.49760e-01,\n",
    "        5.38530e-01,  4.86690e-01,  4.61320e-01,  4.30660e-01,\n",
    "        4.07840e-01,  3.85930e-01,  3.38830e-01,  3.42830e-01,\n",
    "        3.03300e-01,  2.73390e-01,  2.50600e-01,  2.38570e-01,\n",
    "        2.12730e-01,  1.91130e-01,  1.73980e-01,  1.60080e-01,\n",
    "        1.52690e-01,  1.32410e-01,  1.18750e-01,  1.09360e-01,\n",
    "        9.84100e-02,  8.85800e-02,  7.57500e-02,  6.80400e-02,\n",
    "        5.91800e-02,  5.20700e-02,  4.46100e-02,  3.97600e-02,\n",
    "        3.45100e-02,  3.04600e-02,  2.75800e-02,  2.48800e-02,\n",
    "        2.23000e-02,  1.98700e-02,  1.77200e-02,  1.56800e-02,\n",
    "        1.40200e-02,  1.24100e-02,  1.09100e-02,  7.02000e-03,\n",
    "        8.37000e-03,  7.59000e-03,  7.04000e-03,  6.77000e-03,\n",
    "        6.67000e-03,  6.76000e-03,  7.06000e-03,  7.58000e-03,\n",
    "        8.39000e-03,  7.05000e-03,  1.08800e-02,  1.23100e-02,\n",
    "        1.37600e-02,  1.50200e-02,  1.60000e-02,  1.55500e-02,\n",
    "        1.20100e-02,  4.39000e-03, -8.68000e-03, -1.64700e-02,\n",
    "       -1.89300e-02, -1.82500e-02, -1.77400e-02, -1.37200e-02,\n",
    "       -1.00400e-02, -4.71000e-03, -1.20000e-04,  9.61000e-03,\n",
    "        1.62900e-02,  2.38600e-02,  3.03300e-02,  4.06800e-02,\n",
    "        5.79400e-02,  6.24800e-02,  7.33600e-02,  8.75100e-02,\n",
    "        1.06380e-01,  1.29310e-01,  1.38350e-01,  1.58600e-01,\n",
    "        1.85660e-01,  2.22460e-01,  2.15540e-01,  2.59910e-01,\n",
    "        2.79570e-01,  2.99660e-01,  3.27540e-01,  3.50290e-01,\n",
    "        3.99680e-01,  4.08800e-01,  4.36520e-01,  5.10780e-01,\n",
    "        5.03310e-01,  5.23930e-01,  5.53430e-01,  6.11520e-01,\n",
    "        6.86020e-01,  7.20500e-01,  7.69120e-01,  7.23310e-01,\n",
    "        7.32970e-01,  7.99780e-01,  8.48540e-01,  8.01260e-01,\n",
    "        9.07480e-01,  9.84770e-01,  9.09000e-01,  1.06275e+00,\n",
    "        9.72030e-01,  1.01346e+00,  1.10854e+00,  1.01540e+00,\n",
    "        1.11685e+00,  1.05981e+00,  1.16594e+00,  1.28888e+00,\n",
    "        1.24589e+00,  1.12860e+00,  1.23867e+00,  1.22279e+00,\n",
    "        1.34556e+00,  1.19172e+00,  1.27852e+00,  1.23481e+00,\n",
    "        1.32342e+00,  1.44042e+00,  1.28343e+00,  1.40476e+00,\n",
    "        1.26792e+00,  1.47726e+00,  1.32032e+00,  1.47669e+00,\n",
    "        1.34592e+00,  1.23938e+00,  1.56246e+00,  1.40649e+00,\n",
    "        1.51231e+00,  1.64232e+00,  1.48522e+00,  1.64087e+00,\n",
    "        1.43060e+00,  1.56593e+00,  1.44320e+00,  1.59838e+00,\n",
    "        1.47949e+00,  1.38881e+00,  1.43064e+00,  1.34172e+00,\n",
    "        1.49323e+00,  1.36802e+00,  1.38124e+00,  1.27076e+00,\n",
    "        1.38744e+00,  1.43008e+00,  1.30660e+00,  1.19989e+00,\n",
    "        1.25645e+00,  1.15433e+00,  1.24689e+00,  1.15106e+00,\n",
    "        1.10904e+00,  1.19877e+00,  1.04450e+00,  1.11930e+00,\n",
    "        1.04140e+00,  9.34650e-01,  9.81150e-01,  9.31270e-01,\n",
    "        8.63300e-01,  8.52790e-01,  8.97290e-01,  8.47390e-01,\n",
    "        8.11590e-01,  7.35900e-01,  6.76360e-01,  6.45350e-01,\n",
    "        6.23160e-01,  6.29170e-01,  5.53210e-01,  5.54210e-01,\n",
    "        5.43060e-01,  4.91290e-01,  4.66000e-01,  4.35410e-01,\n",
    "        4.12660e-01,  3.90830e-01,  3.43790e-01,  3.47860e-01,\n",
    "        3.08390e-01,  2.78550e-01,  2.55820e-01,  2.43860e-01,\n",
    "        2.18070e-01,  1.96530e-01,  1.79440e-01,  1.65590e-01,\n",
    "        1.58250e-01,  1.38030e-01,  1.24420e-01,  1.15070e-01,\n",
    "        1.04160e-01,  9.43800e-02,  8.15900e-02,  7.39200e-02,\n",
    "        6.51000e-02,  5.80300e-02,  5.06000e-02,  4.57900e-02,\n",
    "        4.05700e-02,  3.65400e-02,  3.36900e-02,  3.10200e-02,\n",
    "        2.84600e-02,  2.60500e-02,  2.39300e-02,  2.19100e-02,\n",
    "        2.02600e-02,  1.86600e-02,  1.71800e-02,  1.33000e-02,\n",
    "        1.46600e-02,  1.38800e-02,  1.33400e-02,  1.30700e-02,\n",
    "        1.29700e-02]"
   ]
  },
  {
   "cell_type": "code",
   "execution_count": 9,
   "metadata": {},
   "outputs": [],
   "source": [
    "velocity = [(1, 18.1905), (2, 18.2674), (3, 18.2065), (5, 17.9549), (6, 18.0377), (7, 17.9368), (9, 17.3525), (10, 17.3366), (11, 17.1988), (13, 16.9133), (14, 16.7526), (15, 16.5947), (17, 16.0599), (18, 15.8272), (19, 15.6096), (20, 15.595999999999998), (22, 15.0945), (23, 14.8506), (24, 14.8433), (26, 13.6298), (27, 13.4153), (28, 13.3865), (30, 12.9145), (31, 12.7022), (32, 12.4987), (34, 12.2837), (35, 12.3652), (36, 12.1966), (37, 12.1527), (39, 11.7547), (40, 11.5879), (41, 11.5591), (43, 11.7669), (44, 11.6266), (45, 11.6045), (47, 10.8218), (48, 10.6223), (49, 10.6122), (51, 10.2001), (52, 10.0865), (53, 9.87998), (55, 9.666269999999999), (56, 9.46682), (57, 9.27748), (58, 9.27158), (60, 8.4455), (61, 8.2802), (62, 8.26581), (64, 8.18839), (65, 8.04575), (66, 8.04332), (68, 7.77348), (69, 7.64924), (70, 7.5362100000000005), (72, 7.689760000000001), (73, 7.58038), (74, 7.47995), (75, 7.47842), (77, 7.29415), (78, 7.206189999999999), (79, 7.21073), (81, 7.080830000000001), (82, 6.98953), (83, 6.99568), (85, 6.85117), (86, 6.78357), (87, 6.792560000000001), (89, 6.4062), (90, 6.36901), (91, 6.3385), (93, 6.33878), (94, 6.3403), (95, 6.3429), (96, 6.35426), (98, 6.2841), (99, 6.35384), (100, 6.36677), (102, 6.56295), (103, 6.6619600000000005), (104, 6.677110000000001), (106, 7.10906), (107, 7.27585), (108, 7.43117), (110, 7.632999999999999), (111, 7.81445), (112, 7.98212), (113, 8.001539999999999), (115, 8.653369999999999), (116, 8.83051), (117, 8.8542), (119, 9.25259), (120, 9.4355), (121, 9.46022), (122, 9.75225), (123, 10.1633), (124, 10.3261), (125, 10.357999999999999), (126, 10.554), (127, 10.7586), (128, 10.9579), (129, 11.1131), (130, 11.1496), (131, 11.3368), (132, 11.5212), (133, 11.9403), (134, 11.9732), (135, 12.1382), (136, 12.2242), (137, 12.3899), (138, 12.5408), (139, 12.6497), (140, 12.8159), (141, 12.8962), (142, 13.039000000000001), (143, 13.136), (144, 13.3005), (145, 13.3674), (146, 13.6598), (147, 13.729000000000001), (148, 13.9224), (149, 13.937999999999999), (150, 14.0856), (151, 14.2166), (152, 14.3161), (153, 14.3844), (154, 14.5347), (155, 14.7423), (156, 14.8232), (157, 14.9036), (158, 15.0304), (159, 15.1466), (160, 15.2354), (161, 15.3386), (162, 15.4016), (163, 15.51), (164, 15.7115), (165, 15.5127), (166, 15.5644), (167, 15.6858), (168, 15.773), (169, 15.9101), (170, 15.9482), (171, 16.0867), (172, 16.3199), (173, 16.3966), (174, 16.4704), (175, 16.6136), (176, 16.7333), (177, 16.8029), (178, 16.9285), (179, 16.9958), (180, 17.1175), (181, 17.4198), (182, 17.5249), (183, 17.5958), (184, 17.7629), (185, 17.7409), (186, 17.8324), (187, 17.9073), (188, 18.0013), (189, 18.574), (190, 18.6175), (191, 18.6746), (192, 18.7502), (193, 18.8126), (194, 18.8648), (195, 18.8765), (196, 18.9116), (197, 20.1228), (198, 20.1684), (199, 20.2539), (200, 20.2857), (201, 20.322), (202, 20.3987), (203, 20.4494), (204, 20.4768), (205, 20.5208), (206, 21.3849), (207, 21.4206), (208, 21.3984), (209, 21.4285), (210, 21.4045), (211, 21.4643), (212, 21.4339), (213, 21.4275), (214, 21.3898), (215, 21.5393), (216, 22.6296), (217, 22.6159), (218, 22.5936), (219, 22.6378), (220, 22.6761), (221, 22.6835), (222, 22.6597), (223, 22.7115), (224, 22.709), (225, 22.6639), (226, 24.283), (227, 24.0245), (228, 23.5448), (229, 23.4949), (230, 23.5022), (231, 23.5023), (232, 23.566999999999997), (233, 23.5672), (234, 23.5074), (235, 23.5333), (236, 23.5886), (237, 23.6012), (238, 23.5503), (239, 23.061999999999998), (240, 24.5041), (241, 24.531), (242, 24.5567), (243, 24.5659), (244, 24.5526), (245, 24.5918), (246, 24.6465), (247, 24.6854), (248, 24.0654), (249, 24.0768), (250, 24.1452), (251, 24.1917), (252, 24.2177), (253, 24.2228), (254, 24.2741), (255, 24.3368), (256, 24.3199), (257, 23.9655), (258, 23.9843), (259, 24.0088), (260, 24.0064), (261, 23.9799), (262, 23.9822), (263, 24.0085), (264, 24.004), (265, 23.9959), (266, 23.9656), (267, 23.9381), (268, 23.8951), (269, 23.8802), (270, 23.8333), (271, 23.8105), (272, 23.8225), (273, 23.7806), (274, 24.3956), (275, 24.354), (276, 24.3545), (277, 24.3162), (278, 24.2617), (279, 24.1627), (280, 24.0952), (281, 25.3187), (282, 25.2345), (283, 25.092), (284, 25.0307), (285, 24.8593), (286, 24.7535), (287, 24.5759), (288, 24.5002), (289, 24.4214), (290, 25.8595), (291, 25.8217), (292, 25.5525), (293, 25.4533), (294, 25.3533), (295, 25.1499), (296, 24.9833), (297, 24.9063), (298, 24.7438), (299, 25.9012), (300, 25.7072), (301, 25.6071), (302, 25.4873), (303, 25.4357), (304, 25.2921), (305, 25.1778), (306, 24.9878), (307, 24.9142), (308, 24.7356), (309, 25.5709), (310, 25.5637), (311, 25.4694), (312, 25.3247), (313, 25.2149), (314, 25.2431), (315, 25.0494), (316, 23.101), (317, 22.9521), (318, 22.8609), (319, 22.6887), (320, 22.6269), (321, 23.9928), (322, 23.8978), (323, 23.9012), (324, 23.824), (325, 23.7089), (326, 20.5497), (327, 20.4604), (328, 20.4208), (329, 20.2595), (330, 20.2162), (331, 20.2097), (332, 20.1805), (333, 20.1277), (334, 20.0684), (335, 18.7237), (336, 19.074), (337, 19.0231), (338, 18.8928), (339, 18.8518), (340, 18.7345), (341, 18.6988), (342, 18.6384), (343, 18.622), (344, 18.2312), (345, 18.276), (346, 18.2763), (347, 18.2928), (348, 18.2646), (349, 18.3201), (350, 18.3945), (351, 18.4779), (352, 18.4713), (353, 18.449), (354, 18.5703), (355, 18.6199), (356, 18.5929), (357, 18.6869), (358, 18.8405), (359, 18.9689), (0, 18.6678), (4, 18.0417), (8, 17.833), (12, 17.0545), (16, 16.5921), (21, 15.3439), (25, 14.5958), (29, 13.1433), (33, 12.4903), (38, 11.9472), (42, 11.9331), (46, 11.4523), (50, 10.4051), (54, 9.87411), (59, 9.07306), (63, 8.342410000000001), (67, 7.9067), (71, 7.53481), (76, 7.38435), (80, 7.17617), (84, 6.917910000000001), (88, 6.74406), (92, 6.346830000000001), (97, 6.2198199999999995), (101, 6.46096), (105, 6.94946), (109, 7.45096), (114, 8.45224), (118, 9.05675)]\n",
    "\n",
    "velocities = {}\n",
    "for vel in velocity:\n",
    "    velocities[vel[0]] = vel[1]"
   ]
  },
  {
   "cell_type": "code",
   "execution_count": 10,
   "metadata": {},
   "outputs": [],
   "source": [
    "import numpy as np\n",
    "import pandas as pd\n",
    "import matplotlib.pyplot as plt\n",
    "import math"
   ]
  },
  {
   "cell_type": "code",
   "execution_count": 11,
   "metadata": {},
   "outputs": [],
   "source": [
    "radius = 1.4\n",
    "shaftd = 0.1\n",
    "vel_inf = 10\n",
    "lambda_inf = 1.4\n",
    "timestep = 0.0025\n",
    "rho = 1.14\n",
    "chord_len = 0.42\n",
    "thickness = 0.15*0.42\n",
    "wings = 3\n",
    "grx = 10\n",
    "gry = 10\n"
   ]
  },
  {
   "cell_type": "code",
   "execution_count": 12,
   "metadata": {},
   "outputs": [],
   "source": [
    "def pow(x,y):\n",
    "    return(x**y)\n",
    "def theta_inst(w,t): \n",
    "    return(w*t)\n",
    "def x_new(r,theta): \n",
    "    return(r*math.cos(theta))\n",
    "def y_new(r,theta): \n",
    "    return(r*math.sin(theta)) \n",
    "def x_new_tip(r,theta): \n",
    "    return(r*math.cos(theta) - (chord_approx/3)*math.sin(theta))\n",
    "def y_new_tip(r,theta): \n",
    "    return(r*math.sin(theta) + (chord_approx/3)*math.cos(theta))\n",
    "def x_new_mid(r,theta): \n",
    "    return(r*math.cos(theta) + (chord_approx/3)*math.sin(theta))\n",
    "def y_new_mid(r,theta): \n",
    "    return(r*math.sin(theta) - (chord_approx/3)*math.cos(theta))\n",
    "def x_new_end(r,theta): \n",
    "    return(r*math.cos(theta) + (2*chord_approx/3)*math.sin(theta))\n",
    "def y_new_end(r,theta): \n",
    "    return(r*math.sin(theta) - (2*chord_approx/3)*math.cos(theta))\n",
    "\n",
    "def beta(theta, u, v): \n",
    "    return(theta + math.atan(v/u))     # # can create a math.singularity issue */\n",
    "def alpha(lbd, beta): \n",
    "    return((180/3.14)*math.cos((lbd - math.sin(beta))/math.sqrt(pow((math.cos(beta)),2) + pow((lbd - math.sin(beta)),2))))   \n",
    "def v_net(u,v): \n",
    "    return((u*u + v*v)**0.5)\n",
    "def v_rel(v_net, lbd, beta): \n",
    "    return(v_net*pow((pow((lbd-math.sin(beta)),2)+pow((math.cos(beta)),2)),0.5))\n",
    "def lbd(v_net):\n",
    "     return(radius*rot_vel/v_net)\n",
    "\n",
    "gamma_l = 1.4 - 6*(0.06 - (thickness/chord_len))\n",
    "gamma_d = 1 - 2.5*(0.06 - (thickness/chord_len)) \n",
    "\n",
    "def alpha_dot(alpha_n, alpha_l, timestep):\n",
    "     return((3.14/180)*((alpha_n - alpha_l)/timestep))  # can create a math.singularity issue */\n",
    "def kappa(alpha_dot):\n",
    "    return(0.75 + 0.25*np.sign(alpha_dot))\n",
    "def alpha_ml(alpha,kappa,alpha_dot, relative_vel):\n",
    "    return((180/3.14)*(alpha*(3.14/180) - gamma_l*kappa*math.sqrt(abs(0.5*chord_len*alpha_dot/relative_vel))*np.sign(alpha_dot)))  # can create a math.singularity issue */\n",
    "def alpha_md(alpha,kappa,alpha_dot, relative_vel):\n",
    "    return((180/3.14)*(alpha*(3.14/180) - gamma_d*kappa*math.sqrt(abs(0.5*chord_len*alpha_dot/relative_vel))*np.sign(alpha_dot)))  # can create a math.singularity issue */\n",
    "\n",
    "def Cl(alpha): \n",
    "    return(cl_val[alpha]) #replace alpha by alpha_ml\n",
    "def Cd(alpha): \n",
    "    return(cd_val[alpha]) #replacce alpha by alpha_md\n",
    "\n",
    "def Ct(C_lm,C_dm,alpha): \n",
    "    return(abs(C_lm)*math.sin(alpha*(3.14/180))-abs(C_dm)*math.cos(alpha*(3.14/180)))\n",
    "def Cn(C_lm,C_dm,alpha): \n",
    "    return(abs(C_lm)*math.cos(alpha*(3.14/180))+abs(C_dm)*math.sin(alpha*(3.14/180)))\n",
    "\n",
    "# Calculating Forces from Coefficients */\n",
    "\n",
    "def Fn(relative_vel, Cn):\n",
    "    return(0.5*rho*chord_len*(relative_vel*relative_vel)*Cn*grx*gry)\n",
    "def Ft(relative_vel, Ct): \n",
    "    return(0.5*rho*chord_len*(relative_vel*relative_vel)*Ct*grx*gry)\n",
    "\n",
    "def Fx(relative_vel, Cx): \n",
    "    return(0.5*rho*chord_len*(relative_vel*relative_vel)*Cx*grx*gry)\n",
    "def Fy(relative_vel, Cy): \n",
    "    return(0.5*rho*chord_len*(relative_vel*relative_vel)*Cy*grx*gry)\n",
    "\n"
   ]
  },
  {
   "cell_type": "code",
   "execution_count": 13,
   "metadata": {},
   "outputs": [],
   "source": [
    "thrust = []\n",
    "stream = []\n",
    "cross_stream = []\n",
    "for theta in range(720):\n",
    "\n",
    "    u = 0.707*velocities[theta%360]\n",
    "    v = 0.707*velocities[theta%360]\n",
    "    u_last = 0.707*velocities[(theta-1)%360]\n",
    "    v_last = 0.707*velocities[(theta-1)%360]\n",
    "    vnet_act = velocities[theta%360]\n",
    "    v_net_last = velocities[(theta-1)%360]\n",
    "    rot_vel = 10\n",
    "\n",
    "    lbd_act = lbd(vnet_act)\n",
    "    lbd_act_last = lbd(v_net_last)\n",
    "    \n",
    "    act_theta = 3.14*(theta/180)\n",
    "    last_theta = act_theta-1\n",
    "    beta_act = beta(act_theta, u, v)\n",
    "    beta_act_last = beta(last_theta, u_last, v_last)\n",
    "\n",
    "    v_rel_act = v_rel(vnet_act, lbd_act, beta_act)                \n",
    "\n",
    "    alpha_act = int(alpha(lbd_act, beta_act)%360)                \n",
    "    alpha_act_last = int(alpha(lbd_act_last, beta_act_last))\n",
    "\n",
    "    alpha_dot_act = alpha_dot(alpha_act, alpha_act_last, timestep)\n",
    "    #alpha_dot_act = rot_vel*(1-lbd_act*math.sin(beta_act))/(v_rel_act**2)\n",
    "\n",
    "    kappa_act = kappa(alpha_dot_act)\n",
    "    alpha_ml_act = int(alpha_ml(alpha_act, kappa_act, alpha_dot_act, v_rel_act)%360)         \n",
    "    alpha_md_act = int(alpha_md(alpha_act, kappa_act, alpha_dot_act, v_rel_act)%360)\n",
    "\n",
    "    Cl_act = Cl(alpha_ml_act)\n",
    "    Cd_act = Cd(alpha_md_act)\n",
    "    Ct_act = Ct(Cl_act, Cd_act, alpha_act)\n",
    "    Cn_act = Cn(Cl_act, Cd_act, alpha_act)\n",
    "\n",
    "    #Cx_act = Cx[alpha_act]\n",
    "    #Cy_act = Cy[alpha_act]\n",
    "\n",
    "    Fn_act = Fn(v_rel_act, Cn_act)                \n",
    "    Ft_act = Ft(v_rel_act, Ct_act)\n",
    "    thrust.append(Ft_act/2100)\n",
    "\n",
    "    if (act_theta > 6.28*int(act_theta/6.28) - 3.14/2  and act_theta < 6.28*int(act_theta/6.28) + 3.14/2): \n",
    "        source = (-Fn_act * math.cos(act_theta) + Ft_act * math.sin(act_theta))\n",
    "    else:\n",
    "        source = (Fn_act * math.cos(act_theta) + Ft_act * math.sin(act_theta))\n",
    "    stream.append(source)\n"
   ]
  },
  {
   "cell_type": "code",
   "execution_count": 14,
   "metadata": {},
   "outputs": [
    {
     "data": {
      "text/plain": [
       "361"
      ]
     },
     "execution_count": 14,
     "metadata": {},
     "output_type": "execute_result"
    }
   ],
   "source": [
    "len(cl_val)"
   ]
  },
  {
   "cell_type": "code",
   "execution_count": 19,
   "metadata": {},
   "outputs": [
    {
     "data": {
      "text/plain": [
       "Text(0, 0.5, 'ct')"
      ]
     },
     "execution_count": 19,
     "metadata": {},
     "output_type": "execute_result"
    },
    {
     "data": {
      "image/png": "[encoded data removed]",
      "text/plain": [
       "<Figure size 432x288 with 1 Axes>"
      ]
     },
     "metadata": {
      "needs_background": "light"
     },
     "output_type": "display_data"
    }
   ],
   "source": [
    "thrust_plotter = []\n",
    "for j in range(len(thrust)):\n",
    "    thrust_plotter.append(abs(thrust[j]))\n",
    "plt.plot(thrust_plotter)     \n",
    "plt.xlabel(\"theta\")\n",
    "plt.ylabel(\"ct\")"
   ]
  },
  {
   "cell_type": "code",
   "execution_count": 17,
   "metadata": {},
   "outputs": [
    {
     "data": {
      "text/plain": [
       "[<matplotlib.lines.Line2D at 0x24816fa4d90>]"
      ]
     },
     "execution_count": 17,
     "metadata": {},
     "output_type": "execute_result"
    },
    {
     "data": {
      "image/png": "[encoded data removed]",
      "text/plain": [
       "<Figure size 432x288 with 1 Axes>"
      ]
     },
     "metadata": {
      "needs_background": "light"
     },
     "output_type": "display_data"
    }
   ],
   "source": [
    "plt.plot(stream)"
   ]
  },
  {
   "cell_type": "code",
   "execution_count": 18,
   "metadata": {
    "tags": []
   },
   "outputs": [
    {
     "data": {
      "text/plain": [
       "-0.11044066983428555"
      ]
     },
     "execution_count": 18,
     "metadata": {},
     "output_type": "execute_result"
    }
   ],
   "source": [
    "w = 10\n",
    "r = 1.4\n",
    "n = 3\n",
    "u_inf = 10\n",
    "\n",
    "integral = 0\n",
    "\n",
    "for j in range(len(thrust)):\n",
    "    Fdtheta = thrust[j]*2100\n",
    "    integral += Fdtheta\n",
    "\n",
    "tot_dtheta = len(thrust)\n",
    "\n",
    "Pt = w*r*(integral/tot_dtheta)/100\n",
    "Pn = 0.5*1.17*10*10*10*2*r*1\n",
    "\n",
    "Pt/Pn"
   ]
  },
  {
   "cell_type": "code",
   "execution_count": null,
   "metadata": {},
   "outputs": [],
   "source": []
  }
 ],
 "metadata": {
  "kernelspec": {
   "display_name": "Python 3",
   "language": "python",
   "name": "python3"
  },
  "language_info": {
   "codemirror_mode": {
    "name": "ipython",
    "version": 3
   },
   "file_extension": ".py",
   "mimetype": "text/x-python",
   "name": "python",
   "nbconvert_exporter": "python",
   "pygments_lexer": "ipython3",
   "version": "3.8.4"
  }
 },
 "nbformat": 4,
 "nbformat_minor": 4
}
