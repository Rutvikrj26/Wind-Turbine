{
 "cells": [
  {
   "cell_type": "code",
   "execution_count": 1,
   "metadata": {},
   "outputs": [],
   "source": [
    "import numpy as np\n",
    "import pandas as pd \n",
    "import matplotlib.pyplot as plt "
   ]
  },
  {
   "cell_type": "code",
   "execution_count": 2,
   "metadata": {},
   "outputs": [],
   "source": [
    "# Getting relevant data in form of structured Data Frames\n",
    "#data = pd.DataFrame(pd.read_csv('data_0.0017_1.txt'))\n",
    "data = pd.DataFrame(pd.read_csv('data_unmodified_0.1x0.1_0.001.txt'))\n",
    "data = data.drop(['j'], axis = 1)\n",
    "data.sort_values(by=['theta'], inplace=True)\n",
    "data = data.dropna()\n",
    "data_array = pd.DataFrame.to_numpy(data).tolist()\n",
    "data\n",
    "\n",
    "exp_data = pd.read_csv('thesis data')\n",
    "data.sort_values(by=['theta'], inplace=True)\n"
   ]
  },
  {
   "cell_type": "code",
   "execution_count": 3,
   "metadata": {},
   "outputs": [],
   "source": [
    "# Creating a Dictionary structure for the Data\n",
    "\n",
    "def checker(dict, key): \n",
    "      \n",
    "    if key in dict.keys(): \n",
    "        return(True)\n",
    "    else: \n",
    "        return(False) \n",
    "\n",
    "theta_force = {}\n",
    "theta_vel = {}\n",
    "theta_vel_all ={}\n",
    "theta_alpha = {}\n",
    "theta_alpha_last = {}\n",
    "theta_alpha_ml = {}\n",
    "theta_alpha_md = {} \n",
    "theta_alpha_cur = {}\n",
    "theta_force_cur = {}\n",
    "theta_cts = {}\n",
    "theta_cts_cur = {}\n",
    "for i in range(len(data_array)):\n",
    "    value = int((data_array[i][0]))\n",
    "    value_limit = int((data_array[i][0])%360)\n",
    "    theta_force[value] = data_array[i][4]#[7]\n",
    "    theta_force_cur[value_limit] = data_array[i][4]\n",
    "    theta_vel[value_limit] = data_array[i][2]#[5]\n",
    "    theta_alpha_cur[value_limit] = data_array[i][1]#[5]\n",
    "    theta_vel_all[value] = data_array[i][2]\n",
    "    theta_alpha[value] = data_array[i][1]\n",
    "    theta_cts[value] = data_array[i][3]\n",
    "    theta_cts_cur[value_limit] = data_array[i][3]\n",
    "#    theta_alpha_last[value] = data_array[i][2]\n",
    "#    theta_alpha_ml[value] = data_array[i][3]\n",
    "#    theta_alpha_md[value] = data_array[i][4]\n",
    "\n"
   ]
  },
  {
   "cell_type": "code",
   "execution_count": 9,
   "metadata": {},
   "outputs": [
    {
     "data": {
      "image/png": "[encoded data removed]",
      "text/plain": [
       "<Figure size 432x288 with 1 Axes>"
      ]
     },
     "metadata": {
      "needs_background": "light"
     },
     "output_type": "display_data"
    }
   ],
   "source": [
    "# Sepearting Data For Operations\n",
    "theta = list(dict.keys(theta_force))\n",
    "theta_limit = list(dict.keys(theta_vel))\n",
    "fts = list(dict.values(theta_force))\n",
    "fts_cur = list(dict.values(theta_force_cur))\n",
    "vel = list(dict.values(theta_vel))\n",
    "alpha = list(dict.values(theta_alpha))\n",
    "alpha_cur = list(dict.values(theta_alpha_cur))\n",
    "cts = list(dict.values(theta_cts))\n",
    "cts_cur = list(dict.values(theta_cts_cur))\n",
    "#alpha_ml = list(dict.values(theta_alpha_ml))\n",
    "#alpha_md = list(dict.values(theta_alpha_md))\n",
    "\n",
    "#alpha_dot = ((np.array(alpha) - np.array(alpha_last))/0.003)\n",
    "\n",
    "#plt.plot(theta,np.array(fts))\n",
    "#plt.plot(theta,np.array(cts))\n",
    "#plt.scatter(theta_limit,np.array(alpha_cur))\n",
    "#plt.xlabel(\"theta\")\n",
    "#plt.ylabel(\"ct\")\n",
    "#plt.ylabel(\"Ft\")\n",
    "#plt.ylabel(\"alpha\")\n",
    "#plt.ylabel(\"alpha_dot\")\n",
    "\n",
    "lists = sorted(theta_force.items()) # sorted by key, return a list of tuples\n",
    "\n",
    "x, y = zip(*lists) # unpack a list of pairs into two tuples\n",
    "\n",
    "plt.plot(np.array(x[1320:1680])-1320, np.array(y[1320:1680])/(25.725*25), '--' ,label = \"Simulation C\", linewidth=3 )\n",
    "plt.scatter(exp_data['theta'], exp_data['value'], label = \"McLaren data\",linewidth=1, color='orange')\n",
    "plt.legend(framealpha=1, frameon=True)\n",
    "plt.xlabel(r'$\\theta$', fontsize=20)\n",
    "plt.ylabel('Thrust Coefficient, ' + r'$C_T$', fontsize=20)\n",
    "plt.grid()\n",
    "#plt.figtext(.3,.95,'Mc-Laren', fontsize=30, ha='center')\n",
    "#plt.figtext(.65,.95,'Comparision',fontsize=25,ha='center')"
   ]
  },
  {
   "cell_type": "code",
   "execution_count": 5,
   "metadata": {},
   "outputs": [
    {
     "data": {
      "text/plain": [
       "0.9950077562884346"
      ]
     },
     "execution_count": 5,
     "metadata": {},
     "output_type": "execute_result"
    }
   ],
   "source": [
    "#setting up constants for the calculation\n",
    "w = 10\n",
    "r = 1.4\n",
    "n = 3\n",
    "u_inf = 10\n",
    "\n",
    "# calculating Pt\n",
    "integral = 0\n",
    "\n",
    "force = y[1320:1680]\n",
    "\n",
    "for j in range(len(force)-1):\n",
    "    Fdtheta = (fts_cur[j+1] + fts_cur[j])*(theta[j+1] - theta[j])/50\n",
    "    integral += Fdtheta\n",
    "\n",
    "tot_dtheta = x[1680] - x[1320]\n",
    "\n",
    "Pt = w*r*3*(integral/tot_dtheta)\n",
    "\n",
    "#Calculating Pn\n",
    "\n",
    "Pn = 0.5*1.225*10*10*10*2*r*1\n",
    "Pt/Pn"
   ]
  },
  {
   "cell_type": "code",
   "execution_count": 6,
   "metadata": {},
   "outputs": [
    {
     "data": {
      "text/plain": [
       "3885"
      ]
     },
     "execution_count": 6,
     "metadata": {},
     "output_type": "execute_result"
    }
   ],
   "source": [
    "x[-1]"
   ]
  },
  {
   "cell_type": "code",
   "execution_count": 7,
   "metadata": {},
   "outputs": [
    {
     "data": {
      "text/plain": [
       "[<matplotlib.lines.Line2D at 0x27d029e59d0>]"
      ]
     },
     "execution_count": 7,
     "metadata": {},
     "output_type": "execute_result"
    },
    {
     "data": {
      "image/png": "[encoded data removed]",
      "text/plain": [
       "<Figure size 432x288 with 1 Axes>"
      ]
     },
     "metadata": {
      "needs_background": "light"
     },
     "output_type": "display_data"
    }
   ],
   "source": [
    "z = np.polyfit(x[1320:1500],y[1320:1500],2)\n",
    "p = np.poly1d(z)\n",
    "\n",
    "plt.plot(x[1320:1500],p(x[1320:1500]))"
   ]
  },
  {
   "cell_type": "code",
   "execution_count": null,
   "metadata": {},
   "outputs": [],
   "source": []
  }
 ],
 "metadata": {
  "kernelspec": {
   "display_name": "Python 3",
   "language": "python",
   "name": "python3"
  },
  "language_info": {
   "codemirror_mode": {
    "name": "ipython",
    "version": 3
   },
   "file_extension": ".py",
   "mimetype": "text/x-python",
   "name": "python",
   "nbconvert_exporter": "python",
   "pygments_lexer": "ipython3",
   "version": "3.8.4"
  }
 },
 "nbformat": 4,
 "nbformat_minor": 2
}
